{
 "cells": [
  {
   "cell_type": "code",
   "execution_count": 1,
   "metadata": {},
   "outputs": [
    {
     "name": "stderr",
     "output_type": "stream",
     "text": [
      "Using TensorFlow backend.\n"
     ]
    }
   ],
   "source": [
    "# organize imports\n",
    "import numpy as np\n",
    "from keras.models import Sequential\n",
    "from keras.layers.core import Dense, Activation, Dropout\n",
    "from keras.datasets import mnist\n",
    "from keras.utils import np_utils"
   ]
  },
  {
   "cell_type": "code",
   "execution_count": 2,
   "metadata": {},
   "outputs": [
    {
     "name": "stderr",
     "output_type": "stream",
     "text": [
      "/home/anupam/anaconda3/envs/tensorflow/lib/python3.5/site-packages/ipykernel_launcher.py:50: UserWarning: The `nb_epoch` argument in `fit` has been renamed `epochs`.\n"
     ]
    },
    {
     "name": "stdout",
     "output_type": "stream",
     "text": [
      "Train on 60000 samples, validate on 10000 samples\n",
      "Epoch 1/25\n",
      " - 7s - loss: 0.2106 - acc: 0.9373 - val_loss: 0.1091 - val_acc: 0.9665\n",
      "Epoch 2/25\n",
      " - 7s - loss: 0.0830 - acc: 0.9741 - val_loss: 0.0846 - val_acc: 0.9717\n",
      "Epoch 3/25\n",
      " - 7s - loss: 0.0566 - acc: 0.9821 - val_loss: 0.0744 - val_acc: 0.9766\n",
      "Epoch 4/25\n",
      " - 7s - loss: 0.0413 - acc: 0.9866 - val_loss: 0.0648 - val_acc: 0.9805\n",
      "Epoch 5/25\n",
      " - 7s - loss: 0.0321 - acc: 0.9895 - val_loss: 0.0787 - val_acc: 0.9781\n",
      "Epoch 6/25\n",
      " - 7s - loss: 0.0263 - acc: 0.9909 - val_loss: 0.0727 - val_acc: 0.9798\n",
      "Epoch 7/25\n",
      " - 7s - loss: 0.0219 - acc: 0.9927 - val_loss: 0.0744 - val_acc: 0.9792\n",
      "Epoch 8/25\n",
      " - 7s - loss: 0.0219 - acc: 0.9929 - val_loss: 0.0793 - val_acc: 0.9798\n",
      "Epoch 9/25\n",
      " - 7s - loss: 0.0179 - acc: 0.9940 - val_loss: 0.0843 - val_acc: 0.9810\n",
      "Epoch 10/25\n",
      " - 7s - loss: 0.0153 - acc: 0.9949 - val_loss: 0.0843 - val_acc: 0.9804\n",
      "Epoch 11/25\n",
      " - 7s - loss: 0.0163 - acc: 0.9946 - val_loss: 0.0943 - val_acc: 0.9792\n",
      "Epoch 12/25\n",
      " - 7s - loss: 0.0115 - acc: 0.9965 - val_loss: 0.1011 - val_acc: 0.9803\n",
      "Epoch 13/25\n",
      " - 7s - loss: 0.0137 - acc: 0.9957 - val_loss: 0.0945 - val_acc: 0.9797\n",
      "Epoch 14/25\n",
      " - 7s - loss: 0.0110 - acc: 0.9964 - val_loss: 0.0834 - val_acc: 0.9825\n",
      "Epoch 15/25\n",
      " - 7s - loss: 0.0126 - acc: 0.9962 - val_loss: 0.0943 - val_acc: 0.9819\n",
      "Epoch 16/25\n",
      " - 7s - loss: 0.0110 - acc: 0.9966 - val_loss: 0.1001 - val_acc: 0.9810\n",
      "Epoch 17/25\n",
      " - 7s - loss: 0.0100 - acc: 0.9970 - val_loss: 0.1023 - val_acc: 0.9807\n",
      "Epoch 18/25\n",
      " - 7s - loss: 0.0119 - acc: 0.9963 - val_loss: 0.0985 - val_acc: 0.9823\n",
      "Epoch 19/25\n",
      " - 7s - loss: 0.0084 - acc: 0.9973 - val_loss: 0.1132 - val_acc: 0.9828\n",
      "Epoch 20/25\n",
      " - 7s - loss: 0.0096 - acc: 0.9973 - val_loss: 0.0962 - val_acc: 0.9830\n",
      "Epoch 21/25\n",
      " - 7s - loss: 0.0114 - acc: 0.9967 - val_loss: 0.1138 - val_acc: 0.9804\n",
      "Epoch 22/25\n",
      " - 7s - loss: 0.0113 - acc: 0.9970 - val_loss: 0.1105 - val_acc: 0.9813\n",
      "Epoch 23/25\n",
      " - 7s - loss: 0.0095 - acc: 0.9970 - val_loss: 0.1151 - val_acc: 0.9813\n",
      "Epoch 24/25\n",
      " - 7s - loss: 0.0082 - acc: 0.9975 - val_loss: 0.0996 - val_acc: 0.9838\n",
      "Epoch 25/25\n",
      " - 7s - loss: 0.0053 - acc: 0.9985 - val_loss: 0.1299 - val_acc: 0.9797\n",
      "[INFO] test score - 0.12993863603315273\n",
      "[INFO] test accuracy - 0.9797\n"
     ]
    }
   ],
   "source": [
    "\n",
    "# fix a random seed for reproducibility\n",
    "np.random.seed(9)\n",
    "\n",
    "# user inputs\n",
    "nb_epoch            = 25\n",
    "num_classes         = 10\n",
    "batch_size          = 64\n",
    "train_size          = 60000\n",
    "test_size           = 10000\n",
    "v_length            = 784\n",
    "model_save_path     = \"output/mlp\"\n",
    "\n",
    "# split the mnist data into train and test\n",
    "(trainData, trainLabels), (testData, testLabels) = mnist.load_data()\n",
    "\n",
    "# reshape and scale the data\n",
    "trainData   = trainData.reshape(train_size, v_length)\n",
    "testData    = testData.reshape(test_size, v_length)\n",
    "trainData   = trainData.astype(\"float32\")\n",
    "testData    = testData.astype(\"float32\")\n",
    "trainData  /= 255\n",
    "testData   /= 255\n",
    "\n",
    "# convert class vectors to binary class matrices --> one-hot encoding\n",
    "mTrainLabels  = np_utils.to_categorical(trainLabels, num_classes)\n",
    "mTestLabels   = np_utils.to_categorical(testLabels, num_classes)\n",
    "\n",
    "# create the MLP model\n",
    "model = Sequential()\n",
    "model.add(Dense(512, input_shape=(v_length,)))\n",
    "model.add(Activation(\"relu\"))\n",
    "model.add(Dense(256))\n",
    "model.add(Activation(\"relu\"))\n",
    "model.add(Dropout(0.2))\n",
    "model.add(Dense(num_classes))\n",
    "model.add(Activation(\"softmax\"))\n",
    "\n",
    "# compile the model\n",
    "model.compile(loss=\"categorical_crossentropy\",\n",
    "              optimizer='adam',\n",
    "              metrics=[\"accuracy\"])\n",
    "\n",
    "# fit the model\n",
    "history = model.fit(trainData, \n",
    "                    mTrainLabels,\n",
    "                    validation_data=(testData, mTestLabels),\n",
    "                    batch_size=batch_size,\n",
    "                    nb_epoch=nb_epoch,\n",
    "                    verbose=2)\n",
    "\n",
    "# evaluate the model\n",
    "scores = model.evaluate(testData, mTestLabels, verbose=0)\n",
    "\n",
    "# print the results\n",
    "print (\"[INFO] test score - {}\".format(scores[0]))\n",
    "print (\"[INFO] test accuracy - {}\".format(scores[1]))"
   ]
  },
  {
   "cell_type": "code",
   "execution_count": 3,
   "metadata": {},
   "outputs": [
    {
     "data": {
      "image/png": "[encoded data removed]",
      "text/plain": [
       "<Figure size 432x288 with 1 Axes>"
      ]
     },
     "metadata": {
      "needs_background": "light"
     },
     "output_type": "display_data"
    },
    {
     "data": {
      "image/png": "[encoded data removed]",
      "text/plain": [
       "<Figure size 432x288 with 1 Axes>"
      ]
     },
     "metadata": {
      "needs_background": "light"
     },
     "output_type": "display_data"
    }
   ],
   "source": [
    "\n",
    "# Plot training & validation accuracy values\n",
    "import matplotlib.pyplot as plt\n",
    "get_ipython().run_line_magic('matplotlib', 'inline')\n",
    "plt.plot(history.history['acc'])\n",
    "plt.plot(history.history['val_acc'])\n",
    "plt.title('Model accuracy')\n",
    "plt.ylabel('Accuracy')\n",
    "plt.xlabel('Epoch')\n",
    "plt.legend(['Train', 'Validation'], loc='upper left')\n",
    "plt.show()\n",
    "\n",
    "# Plot training & validation loss values\n",
    "plt.plot(history.history['loss'])\n",
    "plt.plot(history.history['val_loss'])\n",
    "plt.title('Model loss')\n",
    "plt.ylabel('Loss')\n",
    "plt.xlabel('Epoch')\n",
    "plt.legend(['Train', 'Validation'], loc='upper left')\n",
    "plt.show()\n"
   ]
  },
  {
   "cell_type": "code",
   "execution_count": null,
   "metadata": {},
   "outputs": [],
   "source": []
  },
  {
   "cell_type": "code",
   "execution_count": null,
   "metadata": {},
   "outputs": [],
   "source": []
  },
  {
   "cell_type": "code",
   "execution_count": 4,
   "metadata": {},
   "outputs": [],
   "source": [
    "import cv2\n",
    "\n",
    "count = 0"
   ]
  },
  {
   "cell_type": "code",
   "execution_count": 31,
   "metadata": {},
   "outputs": [],
   "source": [
    "\n",
    "\n",
    "x= np.load(\"nums.npy\")\n",
    "ls = x.reshape(81,784)\n",
    "\n",
    "temp = []\n",
    "for img in ls:\n",
    "    temp.append(int(np.average(img)))\n",
    "temp = np.asarray(temp)\n",
    "\n",
    "x = x[temp>5]"
   ]
  },
  {
   "cell_type": "code",
   "execution_count": 32,
   "metadata": {},
   "outputs": [],
   "source": [
    "cls = model.predict_classes(ls[temp > 5])\n",
    "\n",
    "for i in range(x.shape[0]):\n",
    "    cv2.imwrite('./dataset/'+str(cls[i]) + '/'+str(count)+'.jpg',x[i])\n",
    "    count = count+1"
   ]
  },
  {
   "cell_type": "code",
   "execution_count": null,
   "metadata": {},
   "outputs": [],
   "source": []
  }
 ],
 "metadata": {
  "kernelspec": {
   "display_name": "Python 3",
   "language": "python",
   "name": "python3"
  },
  "language_info": {
   "codemirror_mode": {
    "name": "ipython",
    "version": 3
   },
   "file_extension": ".py",
   "mimetype": "text/x-python",
   "name": "python",
   "nbconvert_exporter": "python",
   "pygments_lexer": "ipython3",
   "version": "3.5.6"
  }
 },
 "nbformat": 4,
 "nbformat_minor": 2
}
