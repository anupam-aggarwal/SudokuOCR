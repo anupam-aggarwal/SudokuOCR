{
 "cells": [
  {
   "cell_type": "code",
   "execution_count": 1,
   "metadata": {},
   "outputs": [
    {
     "name": "stderr",
     "output_type": "stream",
     "text": [
      "Using TensorFlow backend.\n"
     ]
    }
   ],
   "source": [
    "# organize imports\n",
    "import numpy as np\n",
    "from keras.models import Sequential\n",
    "from keras.layers.core import Dense, Activation, Dropout\n",
    "from keras.datasets import mnist\n",
    "from keras.utils import np_utils"
   ]
  },
  {
   "cell_type": "code",
   "execution_count": 4,
   "metadata": {},
   "outputs": [
    {
     "name": "stderr",
     "output_type": "stream",
     "text": [
      "/home/anupam/anaconda3/envs/tensorflow/lib/python3.5/site-packages/ipykernel_launcher.py:50: UserWarning: The `nb_epoch` argument in `fit` has been renamed `epochs`.\n"
     ]
    },
    {
     "name": "stdout",
     "output_type": "stream",
     "text": [
      "Train on 60000 samples, validate on 10000 samples\n",
      "Epoch 1/25\n",
      " - 7s - loss: 0.2085 - acc: 0.9379 - val_loss: 0.1087 - val_acc: 0.9656\n",
      "Epoch 2/25\n",
      " - 7s - loss: 0.0825 - acc: 0.9739 - val_loss: 0.0800 - val_acc: 0.9744\n",
      "Epoch 3/25\n",
      " - 7s - loss: 0.0573 - acc: 0.9814 - val_loss: 0.0694 - val_acc: 0.9763\n",
      "Epoch 4/25\n",
      " - 7s - loss: 0.0419 - acc: 0.9864 - val_loss: 0.0762 - val_acc: 0.9751\n",
      "Epoch 5/25\n",
      " - 7s - loss: 0.0325 - acc: 0.9896 - val_loss: 0.0787 - val_acc: 0.9777\n",
      "Epoch 6/25\n",
      " - 7s - loss: 0.0269 - acc: 0.9916 - val_loss: 0.0797 - val_acc: 0.9787\n",
      "Epoch 7/25\n",
      " - 7s - loss: 0.0237 - acc: 0.9920 - val_loss: 0.0735 - val_acc: 0.9797\n",
      "Epoch 8/25\n",
      " - 7s - loss: 0.0211 - acc: 0.9929 - val_loss: 0.0788 - val_acc: 0.9798\n",
      "Epoch 9/25\n",
      " - 7s - loss: 0.0191 - acc: 0.9938 - val_loss: 0.0890 - val_acc: 0.9788\n",
      "Epoch 10/25\n",
      " - 7s - loss: 0.0140 - acc: 0.9952 - val_loss: 0.0872 - val_acc: 0.9810\n",
      "Epoch 11/25\n",
      " - 7s - loss: 0.0165 - acc: 0.9946 - val_loss: 0.0854 - val_acc: 0.9810\n",
      "Epoch 12/25\n",
      " - 7s - loss: 0.0144 - acc: 0.9951 - val_loss: 0.0847 - val_acc: 0.9816\n",
      "Epoch 13/25\n",
      " - 7s - loss: 0.0137 - acc: 0.9956 - val_loss: 0.0979 - val_acc: 0.9801\n",
      "Epoch 14/25\n",
      " - 7s - loss: 0.0135 - acc: 0.9960 - val_loss: 0.1048 - val_acc: 0.9805\n",
      "Epoch 15/25\n",
      " - 7s - loss: 0.0125 - acc: 0.9961 - val_loss: 0.0937 - val_acc: 0.9815\n",
      "Epoch 16/25\n",
      " - 7s - loss: 0.0081 - acc: 0.9974 - val_loss: 0.1010 - val_acc: 0.9817\n",
      "Epoch 17/25\n",
      " - 7s - loss: 0.0133 - acc: 0.9958 - val_loss: 0.1099 - val_acc: 0.9801\n",
      "Epoch 18/25\n",
      " - 7s - loss: 0.0094 - acc: 0.9969 - val_loss: 0.1007 - val_acc: 0.9817\n",
      "Epoch 19/25\n",
      " - 7s - loss: 0.0087 - acc: 0.9974 - val_loss: 0.0974 - val_acc: 0.9824\n",
      "Epoch 20/25\n",
      " - 7s - loss: 0.0106 - acc: 0.9969 - val_loss: 0.1120 - val_acc: 0.9809\n",
      "Epoch 21/25\n",
      " - 7s - loss: 0.0098 - acc: 0.9969 - val_loss: 0.1085 - val_acc: 0.9822\n",
      "Epoch 22/25\n",
      " - 7s - loss: 0.0106 - acc: 0.9969 - val_loss: 0.1019 - val_acc: 0.9834\n",
      "Epoch 23/25\n",
      " - 7s - loss: 0.0095 - acc: 0.9968 - val_loss: 0.1090 - val_acc: 0.9811\n",
      "Epoch 24/25\n",
      " - 7s - loss: 0.0058 - acc: 0.9982 - val_loss: 0.1233 - val_acc: 0.9802\n",
      "Epoch 25/25\n",
      " - 7s - loss: 0.0093 - acc: 0.9973 - val_loss: 0.1095 - val_acc: 0.9813\n",
      "[INFO] test score - 0.10947900657404257\n",
      "[INFO] test accuracy - 0.9813\n"
     ]
    }
   ],
   "source": [
    "\n",
    "# fix a random seed for reproducibility\n",
    "np.random.seed(9)\n",
    "\n",
    "# user inputs\n",
    "nb_epoch            = 25\n",
    "num_classes         = 10\n",
    "batch_size          = 64\n",
    "train_size          = 60000\n",
    "test_size           = 10000\n",
    "v_length            = 784\n",
    "model_save_path     = \"output/mlp\"\n",
    "\n",
    "# split the mnist data into train and test\n",
    "(trainData, trainLabels), (testData, testLabels) = mnist.load_data()\n",
    "\n",
    "# reshape and scale the data\n",
    "trainData   = trainData.reshape(train_size, v_length)\n",
    "testData    = testData.reshape(test_size, v_length)\n",
    "trainData   = trainData.astype(\"float32\")\n",
    "testData    = testData.astype(\"float32\")\n",
    "trainData  /= 255\n",
    "testData   /= 255\n",
    "\n",
    "# convert class vectors to binary class matrices --> one-hot encoding\n",
    "mTrainLabels  = np_utils.to_categorical(trainLabels, num_classes)\n",
    "mTestLabels   = np_utils.to_categorical(testLabels, num_classes)\n",
    "\n",
    "# create the MLP model\n",
    "model = Sequential()\n",
    "model.add(Dense(512, input_shape=(v_length,)))\n",
    "model.add(Activation(\"relu\"))\n",
    "model.add(Dense(256))\n",
    "model.add(Activation(\"relu\"))\n",
    "model.add(Dropout(0.2))\n",
    "model.add(Dense(num_classes))\n",
    "model.add(Activation(\"softmax\"))\n",
    "\n",
    "# compile the model\n",
    "model.compile(loss=\"categorical_crossentropy\",\n",
    "              optimizer='adam',\n",
    "              metrics=[\"accuracy\"])\n",
    "\n",
    "# fit the model\n",
    "history = model.fit(trainData, \n",
    "                    mTrainLabels,\n",
    "                    validation_data=(testData, mTestLabels),\n",
    "                    batch_size=batch_size,\n",
    "                    nb_epoch=nb_epoch,\n",
    "                    verbose=2)\n",
    "\n",
    "# evaluate the model\n",
    "scores = model.evaluate(testData, mTestLabels, verbose=0)\n",
    "\n",
    "# print the results\n",
    "print (\"[INFO] test score - {}\".format(scores[0]))\n",
    "print (\"[INFO] test accuracy - {}\".format(scores[1]))"
   ]
  },
  {
   "cell_type": "code",
   "execution_count": 5,
   "metadata": {},
   "outputs": [
    {
     "data": {
      "image/png": "[encoded data removed]",
      "text/plain": [
       "<Figure size 432x288 with 1 Axes>"
      ]
     },
     "metadata": {
      "needs_background": "light"
     },
     "output_type": "display_data"
    },
    {
     "data": {
      "image/png": "[encoded data removed]",
      "text/plain": [
       "<Figure size 432x288 with 1 Axes>"
      ]
     },
     "metadata": {
      "needs_background": "light"
     },
     "output_type": "display_data"
    }
   ],
   "source": [
    "\n",
    "# Plot training & validation accuracy values\n",
    "import matplotlib.pyplot as plt\n",
    "get_ipython().run_line_magic('matplotlib', 'inline')\n",
    "plt.plot(history.history['acc'])\n",
    "plt.plot(history.history['val_acc'])\n",
    "plt.title('Model accuracy')\n",
    "plt.ylabel('Accuracy')\n",
    "plt.xlabel('Epoch')\n",
    "plt.legend(['Train', 'Validation'], loc='upper left')\n",
    "plt.show()\n",
    "\n",
    "# Plot training & validation loss values\n",
    "plt.plot(history.history['loss'])\n",
    "plt.plot(history.history['val_loss'])\n",
    "plt.title('Model loss')\n",
    "plt.ylabel('Loss')\n",
    "plt.xlabel('Epoch')\n",
    "plt.legend(['Train', 'Validation'], loc='upper left')\n",
    "plt.show()\n"
   ]
  },
  {
   "cell_type": "code",
   "execution_count": null,
   "metadata": {},
   "outputs": [],
   "source": []
  },
  {
   "cell_type": "code",
   "execution_count": null,
   "metadata": {},
   "outputs": [],
   "source": []
  },
  {
   "cell_type": "code",
   "execution_count": 6,
   "metadata": {},
   "outputs": [],
   "source": [
    "import cv2\n",
    "\n",
    "count = 0"
   ]
  },
  {
   "cell_type": "code",
   "execution_count": 33,
   "metadata": {},
   "outputs": [],
   "source": [
    "\n",
    "\n",
    "x= np.load(\"nums.npy\")\n",
    "ls = x.reshape(81,784)\n",
    "\n",
    "temp = []\n",
    "for img in ls:\n",
    "    temp.append(int(np.average(img)))\n",
    "temp = np.asarray(temp)\n",
    "\n",
    "x = x[temp>5]"
   ]
  },
  {
   "cell_type": "code",
   "execution_count": 34,
   "metadata": {},
   "outputs": [],
   "source": [
    "cls = model.predict_classes(ls[temp > 5])\n",
    "\n",
    "for i in range(x.shape[0]):\n",
    "    cv2.imwrite('./dataset/'+str(cls[i]) + '/'+str(count)+'.jpg',x[i])\n",
    "    count = count+1"
   ]
  },
  {
   "cell_type": "code",
   "execution_count": null,
   "metadata": {},
   "outputs": [],
   "source": []
  }
 ],
 "metadata": {
  "kernelspec": {
   "display_name": "Python 3",
   "language": "python",
   "name": "python3"
  },
  "language_info": {
   "codemirror_mode": {
    "name": "ipython",
    "version": 3
   },
   "file_extension": ".py",
   "mimetype": "text/x-python",
   "name": "python",
   "nbconvert_exporter": "python",
   "pygments_lexer": "ipython3",
   "version": "3.5.6"
  }
 },
 "nbformat": 4,
 "nbformat_minor": 2
}
